{
 "cells": [
  {
   "cell_type": "code",
   "execution_count": null,
   "metadata": {
    "collapsed": true
   },
   "outputs": [],
   "source": [
    "##############\n",
    "## Script listens to serial port and writes contents into a file\n",
    "##############\n",
    "## requires pySerial to be installed \n",
    "import serial\n"
   ]
  },
  {
   "cell_type": "code",
   "execution_count": null,
   "metadata": {
    "collapsed": true
   },
   "outputs": [],
   "source": [
    "serial_port = '/dev/tty.usbmodem1411'\n",
    "baud_rate = 115200 #In arduino, Serial.begin(baud_rate)\n",
    "write_to_file_path = \"arduinoOutput_15C.txt\""
   ]
  },
  {
   "cell_type": "code",
   "execution_count": null,
   "metadata": {
    "collapsed": true
   },
   "outputs": [],
   "source": [
    "output_file = open(write_to_file_path, \"w+\");\n",
    "ser = serial.Serial(serial_port, baud_rate)\n",
    "while True:\n",
    "    line = ser.readline();\n",
    "    line = line.decode(\"utf-8\") #ser.readline returns a binary, convert to string\n",
    "    print(line);\n",
    "    output_file.write(line);"
   ]
  },
  {
   "cell_type": "code",
   "execution_count": null,
   "metadata": {
    "collapsed": true
   },
   "outputs": [],
   "source": []
  }
 ],
 "metadata": {
  "kernelspec": {
   "display_name": "Python 3",
   "language": "python",
   "name": "python3"
  },
  "language_info": {
   "codemirror_mode": {
    "name": "ipython",
    "version": 3
   },
   "file_extension": ".py",
   "mimetype": "text/x-python",
   "name": "python",
   "nbconvert_exporter": "python",
   "pygments_lexer": "ipython3",
   "version": "3.6.1"
  }
 },
 "nbformat": 4,
 "nbformat_minor": 2
}
